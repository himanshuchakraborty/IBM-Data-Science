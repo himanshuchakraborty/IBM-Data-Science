{
 "cells": [
  {
   "cell_type": "markdown",
   "id": "122f99be-177b-4d81-ab84-0a33e62d75ac",
   "metadata": {},
   "source": [
    "# Data Science Tools and Ecosystem"
   ]
  },
  {
   "cell_type": "markdown",
   "id": "f9aa0484-a333-4ada-a179-aadfb4f55c9f",
   "metadata": {},
   "source": [
    "__Objectives__\n",
    "\n",
    "List popular languages for Data Science.\n",
    "\n",
    ". Python\n",
    "\n",
    ". SQL\n",
    "\n",
    ". R\n",
    "\n",
    ". Julia\n",
    "\n",
    ". Scala \n"
   ]
  },
  {
   "cell_type": "markdown",
   "id": "29f679b6-375b-4d64-bb58-ad39e22494a6",
   "metadata": {},
   "source": [
    "## Author\n",
    "Himanshu"
   ]
  },
  {
   "cell_type": "markdown",
   "id": "017da6ab-5f18-4c5f-bd4b-061024f699ef",
   "metadata": {},
   "source": [
    "In this notebook, Data Science Tools and Ecosystem are summarized."
   ]
  },
  {
   "cell_type": "markdown",
   "id": "c22aa626-2f98-480d-81c8-de61170b83d0",
   "metadata": {},
   "source": [
    "Some of the popular languages that Data Scientists use are:\n",
    "1. Python\n",
    "2. SQL\n",
    "3. R"
   ]
  },
  {
   "cell_type": "markdown",
   "id": "5a7925db-0d7e-446b-a2f4-88d0c6c6f008",
   "metadata": {},
   "source": [
    "Some of the popular libraries that Data Scientists use are:\n",
    "1. Pandas\n",
    "2. Numpy\n",
    "3. Scikit-learn"
   ]
  },
  {
   "cell_type": "markdown",
   "id": "9238d386-e721-4944-92b8-28ff7706c780",
   "metadata": {},
   "source": [
    "| Data Science Tools |\n",
    "|--------------------|\n",
    "| JupyterLab         |\n",
    "| VS Code            |\n",
    "| RStudio            |"
   ]
  },
  {
   "cell_type": "markdown",
   "id": "d7e5f51f-3d9b-46e4-b663-db1d375caa97",
   "metadata": {},
   "source": [
    "### Below are few examples of evaluating arithmetic expressions in Python"
   ]
  },
  {
   "cell_type": "code",
   "execution_count": 3,
   "id": "48739f69-2d14-4432-ba81-882c1a35a10b",
   "metadata": {},
   "outputs": [
    {
     "data": {
      "text/plain": [
       "17"
      ]
     },
     "execution_count": 3,
     "metadata": {},
     "output_type": "execute_result"
    }
   ],
   "source": [
    "# This is a simple arithmetic expression to multiply and then add integers.\n",
    "\n",
    "(3*4)+5"
   ]
  },
  {
   "cell_type": "code",
   "execution_count": 1,
   "id": "7a60f1c4-8df8-499c-aba7-2e72f6eabc4e",
   "metadata": {},
   "outputs": [
    {
     "data": {
      "text/plain": [
       "3.3333333333333335"
      ]
     },
     "execution_count": 1,
     "metadata": {},
     "output_type": "execute_result"
    }
   ],
   "source": [
    "# This will convert 200 minutes to hours by diving by 60.\n",
    "200/60"
   ]
  }
 ],
 "metadata": {
  "kernelspec": {
   "display_name": "Python 3 (ipykernel)",
   "language": "python",
   "name": "python3"
  },
  "language_info": {
   "codemirror_mode": {
    "name": "ipython",
    "version": 3
   },
   "file_extension": ".py",
   "mimetype": "text/x-python",
   "name": "python",
   "nbconvert_exporter": "python",
   "pygments_lexer": "ipython3",
   "version": "3.12.8"
  }
 },
 "nbformat": 4,
 "nbformat_minor": 5
}
